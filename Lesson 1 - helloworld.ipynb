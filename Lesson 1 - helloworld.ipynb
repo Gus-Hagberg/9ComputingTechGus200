{
 "cells": [
  {
   "attachments": {},
   "cell_type": "markdown",
   "metadata": {},
   "source": [
    "# Hello, World!\n",
    "## Heading 2\n",
    "### Heading 3\n",
    "#### Heading 4\n",
    "The following program will output_*Hello, World*_ to the terminal."
   ]
  },
  {
   "cell_type": "code",
   "execution_count": null,
   "metadata": {},
   "outputs": [],
   "source": [
    "Print(\"Hello, World!\")"
   ]
  }
 ],
 "metadata": {
  "language_info": {
   "name": "python"
  },
  "orig_nbformat": 4
 },
 "nbformat": 4,
 "nbformat_minor": 2
}
